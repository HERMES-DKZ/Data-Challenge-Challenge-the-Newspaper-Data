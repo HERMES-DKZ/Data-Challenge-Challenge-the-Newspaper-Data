{
 "cells": [
  {
   "cell_type": "code",
   "execution_count": null,
   "metadata": {},
   "outputs": [],
   "source": [
    "import pandas as pd\n",
    "\n",
    "\n",
    "zeitungen = pd.read_pickle('newspapers/newspapers_example')                      # Import des Beispieldatensatzes, besteht aus den ersten 10.000 Einträgen des Pakets aus dem Jahre 1914 Part 1\n",
    "\n",
    "\n"
   ]
  },
  {
   "cell_type": "code",
   "execution_count": null,
   "metadata": {},
   "outputs": [],
   "source": [
    "print(zeitungen.head())                                 # Ausgabe der ersten 10 Einträge des Dataframes\n",
    "print(zeitungen.iloc[0])                                # Ausgabe des ersten Eintrags\n",
    "print(zeitungen.info())"
   ]
  },
  {
   "cell_type": "code",
   "execution_count": null,
   "metadata": {},
   "outputs": [],
   "source": [
    "# Unique Values\n",
    "# Beispielausgabe von bestimmten, relevanten Infos für eine Analyse:\n",
    "print(len(zeitungen['provider'].unique()))              # Aus wie vielen und welchen Institutionen stammen die Zeitungen?\n",
    "print(zeitungen['provider'].unique())\n",
    "print(len(zeitungen['paper_title'].unique()))           # Wie viele Zeitungen und welche sind enthalten?\n",
    "print(zeitungen['paper_title'].unique())\n",
    "\n",
    "\n",
    "\n",
    "print(zeitungen.iloc[0].plainpagefulltext)              # Ausgabe des OCR-Scans der ersten Zeitschrift im Datensatz"
   ]
  }
 ],
 "metadata": {
  "language_info": {
   "name": "python"
  }
 },
 "nbformat": 4,
 "nbformat_minor": 2
}
