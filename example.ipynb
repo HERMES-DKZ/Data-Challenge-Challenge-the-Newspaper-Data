{
 "cells": [
  {
   "cell_type": "markdown",
   "metadata": {},
   "source": [
    "## Import\n",
    "\n",
    "Im ersten Schritt wird die Bibliothek [Pandas](https://pandas.pydata.org/) importiert, die zuvor installiert werden muss. Eine einfache Einführung in zu Pandas findet ihr [hier](https://www.w3schools.com/python/pandas/default.asp). Dabei es sich um eine Bibliothek, welche die Analyse und Manipulation von Daten erleichtert. "
   ]
  },
  {
   "cell_type": "code",
   "execution_count": 1,
   "metadata": {},
   "outputs": [],
   "source": [
    "import pandas as pd             "
   ]
  },
  {
   "cell_type": "markdown",
   "metadata": {},
   "source": [
    "Im nächsten Schritt werden die zuvor heruntergeladenen Dateien für die Verarbeitung importiert. Da die hier dargestellte Analyse nur einen Einstieg bieten soll, wird hier nur die eine Testdatei eingelesen. Im Gesamtprojekt solltet ihr mehr als nur diese eine Datei importieren. Ihr könnt die restlichen Parts dazu in den Ordner newspapers kopieren und die nächste Zelle für den gewünschten Import anpassen."
   ]
  },
  {
   "cell_type": "code",
   "execution_count": 3,
   "metadata": {},
   "outputs": [],
   "source": [
    "zeitungen = pd.read_pickle('newspapers/newspapers_ger_1914_part_1') "
   ]
  },
  {
   "cell_type": "markdown",
   "metadata": {},
   "source": [
    "Die nächsten Schritte stellen bereits die ersten Schritte der Exploration des Datensatzes dar. Die Methode **iloc** gibt zum Beispiel einen Eintrag des Dataframes zurück. Dadurch kann sich schon einmal ein erster Eindruck verschafft werden, wie ein Objekt im Datensatz aussieht und welche Eigenschaften dieses besitzt."
   ]
  },
  {
   "cell_type": "code",
   "execution_count": 8,
   "metadata": {
    "scrolled": true
   },
   "outputs": [
    {
     "data": {
      "text/plain": [
       "page_id                  222VFGDROAVP6UQSQML7Q7OERUCLJPRM-ALTO3061500_D...\n",
       "pagenumber                                                               1\n",
       "paper_title                             Bensberger Volkszeitung. 1907-1929\n",
       "provider_ddb_id                           VKNQFFAKOR4XZWJJKUX3NGYSZ3QZAXCW\n",
       "provider                 Universitäts- und Landesbibliothek der Rheinis...\n",
       "zdb_id                                                           2706805-5\n",
       "publication_date                                       1914-02-07 12:00:00\n",
       "place_of_distribution    [Bensberg, Bergisch Gladbach, Bergisch Gladbac...\n",
       "language                                                             [ger]\n",
       "thumbnail                             af851bb9-e1b0-4cfe-bb8c-34a441887288\n",
       "pagefulltext             [/data/altos/22/2V/222VFGDROAVP6UQSQML7Q7OERUC...\n",
       "pagename                                          ALTO3061500_DDB_FULLTEXT\n",
       "preview_reference        https://api.deutsche-digitale-bibliothek.de/bi...\n",
       "plainpagefulltext        „ 2666000000000000000OOO e Erscheint 6 * Diens...\n",
       "Name: 0, dtype: object"
      ]
     },
     "execution_count": 8,
     "metadata": {},
     "output_type": "execute_result"
    }
   ],
   "source": [
    "zeitungen.iloc[0]"
   ]
  },
  {
   "cell_type": "markdown",
   "metadata": {},
   "source": [
    "Die Methode **.info** ist ebenfalls ein guter erster Einstieg, da sie ebenfalls einen Überblick über die im Datensatz enthaltenen Eigenschaften gibt. Hier ist auch schon die erste Auffälligkeit abzulesen."
   ]
  },
  {
   "cell_type": "code",
   "execution_count": 10,
   "metadata": {},
   "outputs": [
    {
     "name": "stdout",
     "output_type": "stream",
     "text": [
      "<class 'pandas.core.frame.DataFrame'>\n",
      "RangeIndex: 1000 entries, 0 to 999\n",
      "Data columns (total 14 columns):\n",
      " #   Column                 Non-Null Count  Dtype         \n",
      "---  ------                 --------------  -----         \n",
      " 0   page_id                1000 non-null   object        \n",
      " 1   pagenumber             1000 non-null   int64         \n",
      " 2   paper_title            1000 non-null   object        \n",
      " 3   provider_ddb_id        1000 non-null   object        \n",
      " 4   provider               1000 non-null   object        \n",
      " 5   zdb_id                 1000 non-null   object        \n",
      " 6   publication_date       1000 non-null   datetime64[ns]\n",
      " 7   place_of_distribution  954 non-null    object        \n",
      " 8   language               1000 non-null   object        \n",
      " 9   thumbnail              1000 non-null   object        \n",
      " 10  pagefulltext           1000 non-null   object        \n",
      " 11  pagename               1000 non-null   object        \n",
      " 12  preview_reference      1000 non-null   object        \n",
      " 13  plainpagefulltext      1000 non-null   object        \n",
      "dtypes: datetime64[ns](1), int64(1), object(12)\n",
      "memory usage: 109.5+ KB\n"
     ]
    }
   ],
   "source": [
    "zeitungen.info()"
   ]
  },
  {
   "cell_type": "markdown",
   "metadata": {},
   "source": [
    "Nach dem ersten groben Überblick der enthaltenen Eigenschaften, könnte man ich als nächstes eine Eigenschaft genauer Ansehen. Mit der folgenden Syntax lassen sich zum Beispiel die unterschiedlichen Datengeberinsitutionen ausgeben. Das Key-Word **provider** kann durch jeden beliebigen Spaltennamen ersetzt werden, den man betrachten möchte."
   ]
  },
  {
   "cell_type": "code",
   "execution_count": 23,
   "metadata": {},
   "outputs": [
    {
     "data": {
      "text/plain": [
       "array(['Universitäts- und Landesbibliothek der Rheinischen Friedrich-Wilhelms-Universität Bonn',\n",
       "       'Badische Landesbibliothek', 'Württembergische Landesbibliothek',\n",
       "       'Westfälische Wilhelms-Universität Münster Universitäts- und Landesbibliothek',\n",
       "       'Sächsische Landesbibliothek - Staats- und Universitätsbibliothek Dresden',\n",
       "       'Technische Universität Chemnitz. Universitätsbibliothek Chemnitz',\n",
       "       'Justus-Liebig-Universität Gießen. Universitätsbibliothek',\n",
       "       'Staats- und Universitätsbibliothek Hamburg Carl von Ossietzky',\n",
       "       'Martin-Luther-Universität Halle-Wittenberg, Universitäts- und Landesbibliothek Sachsen-Anhalt',\n",
       "       'Universität Mannheim. Universitätsbibliothek',\n",
       "       'Bibliothek der Friedrich-Ebert-Stiftung', 'MARCHIVUM Mannheim',\n",
       "       'Gottfried Wilhelm Leibniz Bibliothek - Niedersächsische Landesbibliothek',\n",
       "       'Staatsbibliothek zu Berlin - Preußischer Kulturbesitz',\n",
       "       'Kreisarchiv des Landkreises Biberach'], dtype=object)"
      ]
     },
     "execution_count": 23,
     "metadata": {},
     "output_type": "execute_result"
    }
   ],
   "source": [
    "zeitungen['provider'].unique()"
   ]
  },
  {
   "cell_type": "markdown",
   "metadata": {},
   "source": [
    "Anstatt sich mit dem Befehl **.unique** die einzigartigen Einträge ausgeben zu lassen, kann man sich auch die Eigenschaft von einem bestimmten Objekt ausgeben. In diesem Fall ist dies der OCR-gescannte Text vom ersten Eintrag im Datensatz."
   ]
  },
  {
   "cell_type": "code",
   "execution_count": 32,
   "metadata": {},
   "outputs": [
    {
     "data": {
      "text/plain": [
       "'Kleine Unterhaltungs - Ecke — Gute Kameradschaftlichkeit im deutschen Es ist ja für jeden wahren Freund des deutschen Heeres keine Neuigkeit , daß das Verhältnis zwischen Offizieren und Mann schaften im allgemeinen gut kameradschaftlich ist und daß die Kritiker sehr im Unrecht sind , die auf Grund irgend eines beklagenswerten Ausnahmefalles nun an den Heereseinrich = tungen herummäkeln . Das Gute wird dabei als etwas Selbstverständliches hingenommen und meist totgeschwiegen . Demgegenüber soll ten von Zeit zu Zeit auch „ Fälle “ veröffent licht werden , die dem Volk ein wahres Bild von der Art und dem Geist seines Heeres geben . Folgende Begebenheiten mögen für sich sprechen : Oberstabsarzt Dr . Kuauth , Re gimentsarzt im 9 . Infanterie = Regiment und ordinierender Arzt der inneren Station des Garnisonlazaretts Würzburg be richtet in Nr . 8 der Deutsch . Mediz . Wochen schrift am 19 . Febr . 1914 : Der Kanonier . , 2 . Batterie 11 . Feldartillerie = Regiments , war am 25 . April 1913 wegen schwerer Blutleere , die sich an eine kurz vorher durchgemachte Mandelentzündung angeschlossen hatte , ins Lazarett ausgenommen worden . Da trotz aller angewendeten Heilmaßnahmen das Krank heitsbild immer bedrohlicher wurde , entschlos sen sich die Aerzte , eine sogenannte Blut transfusion bei dem Kranken vorzu nehmen , d . h . direkte Ueberleitung von frischem , gesundem Menschenblute aus einer Schlagader eines andern in eine Blutader des Erkrankten . Die Transfusion erfolgte am 12 . Juni 1913 , und gab sich der 45 Jahre alte Vater des F . dazu her : Dauer der Blutüber leitung eine halbe Stunde . Da das Krank heitsbild sich nur verhältnismäßig wenig änderte , wurde 5 Tage später eine erneute Bluttransfusion vorgenommen . Freiwillig hatte sich der Leutnant D . des 9 . Infan terie = Regiments dazu erboten , von seinem Blute für den kranken Soldaten sich ab zapfen zu lassen ; die Dauer der Transfusion betrug dreiviertel Stunde Leider war auch dieses Opfer vergeblich . Das ganze Blut des Kranken war bereits derartig krankhaft zer setzt , daß er wenige Wochen später verstarb . Ein anderer „ Fall “ trug sich folgender maßen zu : Im Garnisonlazarett zu Z . lag ein Soldat des dort garnisonierenden Infanterie Regiments wegen einer schweren Verbren nung am linken Handrucken und Vorderarm , die er sich bei der Explosion einer Petroleum lampe zugezogen hatte . Die Ueberhautung der umfangreichen Wundfläche hatte sich nur dadurch erreichen lassen , daß wiederholt Haut stückchen von dem unverletzten Arme und vom Rücken des Kranken entnommen und auf die Wundfläch : des Kranken übergepflanzt worden waren ( Transplantation ) . An einer über handtellergroßen Stelle der Wunde aber war die Anheilung der überpflanzten Hautstückchen nicht zu erreichen gewesen . Da die behandeln den Aerzte der Meinung waren , daß die Ueberpflanzung von Erfolg sein würde , wenn die erforderliche Haut von einem an deren , gesunden Menschen zur Verfügung stünde , erbot sich ohne weiteres der Kom Pagnieleutnant N . des Kranken , Haut aus seinem Oberarm entnehmen zu lassen . Das geschah denn auch ; die Operation und die Hautüberpflanzung glückte , und der Soldat konnte später geheilt entlassen werden . Das aufopfernde Verhalten der beiden Offiziere für ihre leidenden Untergebenen , für die sie im wahrsten Sinne des Wortes ihre Haut zu Markte trugen und ihr Blut hergaben , ist sicher ein Beweis für die gute echte Kame radschaft im deutschen Herr auch zwischen Offi zier und einfachem Soldat . — Der Schmerz des Verbrechers . Péra la Capinette hatte vor einem Vierteljahr hundert in einem Wutanfalle einen Menschen ermordet und war nach Kaledonien verschickt worden . Wie die Daily Expreß berichtet , war dort kürzlich eine Kommission erschienen , welche die Gefängnisse besichtigen und die auf dem Regierungsland untergebrachten gebes serten Sträflinge besuchen sollte . Sie kam auch zu dem weißhaarigen , ehrwürdig aussehenden , siebzig Jahre alten Pére la Capinette , der von seinen Söhnen umgeben war , die er aus Frankreich hatte nachkommen lassen . Voller Stolz führte er die Kommisssare über seine Kaffeeplantage , die er seit seiner Freilassung bewirtschaftet hatte . „ Ich verdiene jetzt 25000 Franken im Jahr, “ sagte er . Und mit einem Seufzer fügte er hinzu : „ Wenn ich den Mann bloß zwanzig Jahre früher ermordet hätte , könnte ich heute Millionär sein . “ Humoristische Ecke . Ernste Absichten . „ Und du glaubst wirk zlich , daß seine Absichten ernsthaft zu nehmen sind ? \" „ Aber unbedingt . Das Auto , mit dem er mich gestern nach Hause brachte , hat ihm 6,50 Dollar Fahrgeld gekostet , und er fragte beim Abschied , ob er seine Aufwartung machen dürfe . “ Bielefelder Unterhaltungs Beilage Erschein ! Nr . 62 . — Sonnabend , 14 . März . 1914 . 15 . Jahrg . Burchs die Wemne . Detektivroman von Cl . Moffett . 29 ( Nachdruck verboten . ) Zwanzigstes Kapitel . Frau Lloyd Kittredge . Die Einzelheiten der nächsten Stunden sind Alice und ihrem Retter niemals ganz klar gewesen . Sie erinnern sich nur dunkel eines Erwachens aus tiefer Bewußtlosigkeit und endlosen Herumwanderns in finstern unterirdischen Gängen . Verbrannt , blutend , rauch geschwärzt und mit verkohlten , zerrissenen Kleidern stolperten sie blindlings immer weiter , sanken entkräftet zu Boden , rafften sich wieder auf und taumelten wieder vorwärts , bis sie endlich Lichtscheine und ferne Stimmen wahrnahmen . Es waren Arbeiter , die mit irgend welchen Kanalisierungsarbeiten beschäftigt waren , und ihnen nun den Weg zur Oberwelt und zum gesegneten Sonnenschein hinauf wiesen . Nun folgte ein vorläufiges Ausruhen und Verbinden in einer nahegelegenen Apo theke , während der telephonisch benachrichtigte Pougeot im Automobil herbeieilte , und eine Stunde darauf lagen beide Gerettete in einem kleinen Privatkrankenhaus dicht neben Pougeots Wohnung in sauberen , kühlen Betten , umgeben von Wärterinnen und Aerzten . Und auf einem Stuhl neben Alicens Bett saß die arg beschmutzte und verstümmelte Esmeralda , während unter Coquenils Kopfkissen das versengte , aber unbeschädigte Tage buch des Mörders lag . „ Beides schwere Fälle, “ lautete das Urteil des Oberarztes . „ Der Mann ist entsetzlich verbrannt . Die Verletzungen des Mädchens sind nicht so schlimm , aber sie hat irgend einen Nerven = Chok erlitten , dessen Folgen wir erst abwarten müssen . In vierundzwanzig Stunden werden wir mehr sagen können . Uebrigens wünscht er Sie zu sprechen , Herr Pougeot . Aber bitte nur eine Minute ! \" In tiefer Erregung betrat der Kommissar das stille , verdunkelte Zimmer , wo sein mit Bandagen umhüllter Freund auf einem Wasserkissen ruhte . „ Lucien, “ sagte eine schwache Stimme , „ ich werde schon wieder hochkommen . Aber für alle Fälle will ich Ihnen die Hauptsachen mitteilen . “ Der Kommissar winkte der Wärterin , die sich sofort zurückzog . Dann bückte er sich über den schwerverletzten Mann und lauschte Coquenils mühsam hervorgebrachten Mitteilungen mit gespanntester Aufmerksamkeit . „ Gott im Himmel ! “ murmelte er schließlich . „ Das soll ihm teuer zu stehen kommen . “ „ Ja , aber tun Sie nichts , bis ich mitsprechen kann . Niemand darf es wissen — auch unsere Namen nicht . “ „ Nein , nein . Ich werde dafür sorgen . “ „ Und Alice — sie wird vielleicht phantasieren . Sie muß zuverlässige Wärterinnen haben . “ Standesamts = Nüchrichten . ( Nachdr . verboten . ) Amt Gadderbaum . Beim hiesigen Standesamt wurden im Mo nat Februar angemeldet : 7 Geburten , 1 Aufge bot , 1 Eheschließung . Sterbefälle : Schneidermeister Karl Rogge , 50 Jahre , Westscheidt ; Bäcker Johann Christian Karl Lindemann , 80 . , Gütersloher Straße 81 ; Freifräulein Sophie Karoline Hed wig von Wangenheim , 52 . , Bethesdaweg 11 ; 16 . , Handwerkerstr . 2 ; Ehe elefeld ; Witwe Hanne Christine Kirchner geb . Vollbrinker , 86 . , Brackwede ; Antoniette Mathilde Erna Clebsch , 18 . , Bethelweg 6 ; Anna Louise Liebermann , 43 . , Bethelweg 8 ; Fabrikarbeiterin Luise Henriette Katharine Ju liane Schürmann , 45 . , Oldendorf ; Johanne Friederike Luise Auguste Meyer zur Heide , 29 J . Saronweg 29 ; Anna Margaretha Busch , 54 . , Bethelweg 8 ; Walter Heinrich Rompel , 24 . , Mamreweg 37 ; Johann Christian Lesser , 31 . , Senne II ; Rentenempfänger Georg Nolte , 49 . , Burgsteich 13 ; Wilhelm Plaschke , 34 . , Mamreweg 37 ; Architekt Otto Schäfer , 40 . , Bethelweg 7 ; Ehefrau Anna Marie Friederike Sophie von Bossel geb . Tappe , 62 . , Bielefeld ; Wilhelm Carl Ferdinand Albert Gustav Quidde , 31 . , Mamreweg 37 ; Fabrikarbeiter Hermann Heinrich Bentrup , 52 . , Senne II ; Heinrich August Erwin Ewerhard , 37 . , Salemweg 57 ; Wilhelm Gustav Heinrich Hartwig , 23 . , Bethelweg 21 , Arbeiter Karl Horte , 48 . ,Biele feld ; Caroline Elise Auguste Hiddessen , 35 . , Bethelweg 8 ; Minna Elise Emma Böhnk , 13 . , Saronweg 23 . Stadt Salzuflen . Bei dem hiesigen Standesamte wurden im Monat Februar angemeldet : Aufgeboten : Kammacher Gustav Oben haus aus Salzuflen und Dienstmagd Elisabeth Hoffmann aus Salzuflen ; Baderendant August Diestelmeier aus Salzuflen und Haustochter Auguste Kleemann aus Salzuflen ; Packer Wil helm Hüls aus Salzuflen und Plätterin Apollonia Wiechers aus Bielefeld . Geburten : Knaben : Friedrich Müller zu Oberwiese bei Waltrup , Landwirt Emil Beiner , Masch 593 , Maurer August Schmiedeskamp , Steege Nr . 15 , Tischler Heinrich Sturhahn , gen . Wilmsmeier , Wüstener straße 58 . Töchter : Maurer Albert Heyde , Pauli nenstraße 131 , Tischler Friedrich Büker , Kamp straße 17 , Fuhrmann Carl Alfmeier , Unterer Gröchteweg 12 , Maurer Heinrich Beckmann , Oberer = Gröchteweg , Lagerist Gustan Brockmeier , Ahornstraße . Ferner 2 uneheliche Kinder . Eheschließungen : Fabrikarbeiter Friedrich Weber , Salzuflen , mit Haustochter Pauline Witthüchter , Bexterhagen ; Schutzmann Carl Wortmann , Salzuflen , mit Haustochter Juliane Kuhlmann , Lieme bei Lemgo ; Maschi nist August Schröder , Altona , mit Haustochter Leonore Möller aus Salzuflen ; Kaufmann Carr Stakelbeck , Osnabrück , mit Geschäftsinhaberin Julie Scheumann , Salzuflen ; Maschinist Her mann Schreiber , Bünde , mit Stütze Caroline Steding , Salzuflen . Sterbefälle : Kind Elisabeth Marga rethe Müller , 7 Mon . Diakonisse Anna Elisabeth Tiemann , 61 . , Witwe Wilhelmine Kampmann geb . Möller , 79 . , Kind Buba , 10 Monate , unverehelichte Margarethe Kullmann , 58 . , Lehrer Eduard Kropp . 41 . , Bauführer Wil helm Niederschäfer , 28 . , Rentner Florenz Oben haus , 74 . , Friseur Ferdinand Ebenbach , 65 . , 1 Kind August Dre Louise Meier geb . Rosenhäger , 56 . , Invalide Ernst Buschmeier , 60 J . Briefkasten . Brackwede . Ein gesetzlicher = Uhr = Laden schluß besteht für die genannten Branchen nicht , doch hat eine Anzahl Geschäfte dieser Art sich freiwillig zu dem = Uhr = Ladenschluß zusammen getan . C . W . Die Doppeschlüsse ! , die Sie auf Ihre Kosten haben aufertigen lassen , sind Sie nicht verpflichtet , beim Auszuge ohne Entschädigung an den Hauswirt abzuliefern , wenn nicht etwa der Mietvertrag eine gegenteilige Bestimmung enthält . Der Vermieter kann aber verlangen , daß die ihm nicht abgegebenen Schlüssel unbrauchbar gemacht werden , vorausgesetzt , daß der Hauswirt von der Existenz der Doppelschlüssel Kenntnis hat . Stammtisch . Ter erste Kanonenschuß im deutsch = französischen Kriege wurde vor der da maligen ersten leichten Batterie des Niederschlesisch . Feldartillerie = Regiments abgegeben , und zwar beim Sturme auf Schloß Geißberg am 4 . August 1870 . Kensnen Sie Biontany , wenn Sie Ihre Gesundheit und ein gutes , blühendes Aussehen erhalten wollen . Denn Biomalz erfrischt und kräftigt den Körper ungemein . Schlaffe , welke Züge verschwinden , die Gesichtsfarbe wird frischer dsiger , der Teint reiner . Bei mageren , in der Ernährung heruntergekommenen Personen macht sich eine Hebung des Appetits , des Gewichts und infolgedessen eine mäßige Rundung der Formen bemerkbar , ohne überflüssiger und lästiger Fettansatz die Schönheit der Formen beeinträchtigt . Biomalz ist allen durch Ueberarbeitung , Krankheit , Nervosität heruntergekommenen Personen zu empfehlen . Von Prosessoren und Aerzten glänzend begutachtet und im ständigen Gebrauch vieler Königl . Kliniken . Vor Nachahmung wird gewarnt . Dose 1 M . und . 90 M . Eine Kostprobe nebst Broschüre über das echte , flüssige und wohlschmeckende Biomalz auf Wunsch an alle Interessenten völlig kostenlos Chem . Fabrik Gebr . Patermann , Teltow = Berlin '"
      ]
     },
     "execution_count": 32,
     "metadata": {},
     "output_type": "execute_result"
    }
   ],
   "source": [
    "zeitungen['plainpagefulltext'][0]"
   ]
  },
  {
   "cell_type": "code",
   "execution_count": null,
   "metadata": {},
   "outputs": [],
   "source": []
  }
 ],
 "metadata": {
  "kernelspec": {
   "display_name": "Python 3 (ipykernel)",
   "language": "python",
   "name": "python3"
  },
  "language_info": {
   "codemirror_mode": {
    "name": "ipython",
    "version": 3
   },
   "file_extension": ".py",
   "mimetype": "text/x-python",
   "name": "python",
   "nbconvert_exporter": "python",
   "pygments_lexer": "ipython3",
   "version": "3.10.12"
  }
 },
 "nbformat": 4,
 "nbformat_minor": 4
}
